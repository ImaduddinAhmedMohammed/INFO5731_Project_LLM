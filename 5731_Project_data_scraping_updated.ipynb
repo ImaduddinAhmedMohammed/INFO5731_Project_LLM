{
  "nbformat": 4,
  "nbformat_minor": 0,
  "metadata": {
    "colab": {
      "provenance": []
    },
    "kernelspec": {
      "name": "python3",
      "display_name": "Python 3"
    },
    "language_info": {
      "name": "python"
    }
  },
  "cells": [
    {
      "cell_type": "code",
      "source": [
        "!pip install praw\n",
        "!pip install --upgrade praw"
      ],
      "metadata": {
        "id": "wINu-zsGBPCS",
        "colab": {
          "base_uri": "https://localhost:8080/"
        },
        "outputId": "0cefe35a-4100-4c27-e7d2-527da0bdd10a"
      },
      "execution_count": 2,
      "outputs": [
        {
          "output_type": "stream",
          "name": "stdout",
          "text": [
            "Collecting praw\n",
            "  Downloading praw-7.7.1-py3-none-any.whl (191 kB)\n",
            "\u001b[2K     \u001b[90m━━━━━━━━━━━━━━━━━━━━━━━━━━━━━━━━━━━━━━━━\u001b[0m \u001b[32m191.0/191.0 kB\u001b[0m \u001b[31m1.9 MB/s\u001b[0m eta \u001b[36m0:00:00\u001b[0m\n",
            "\u001b[?25hCollecting prawcore<3,>=2.1 (from praw)\n",
            "  Downloading prawcore-2.4.0-py3-none-any.whl (17 kB)\n",
            "Collecting update-checker>=0.18 (from praw)\n",
            "  Downloading update_checker-0.18.0-py3-none-any.whl (7.0 kB)\n",
            "Requirement already satisfied: websocket-client>=0.54.0 in /usr/local/lib/python3.10/dist-packages (from praw) (1.7.0)\n",
            "Requirement already satisfied: requests<3.0,>=2.6.0 in /usr/local/lib/python3.10/dist-packages (from prawcore<3,>=2.1->praw) (2.31.0)\n",
            "Requirement already satisfied: charset-normalizer<4,>=2 in /usr/local/lib/python3.10/dist-packages (from requests<3.0,>=2.6.0->prawcore<3,>=2.1->praw) (3.3.2)\n",
            "Requirement already satisfied: idna<4,>=2.5 in /usr/local/lib/python3.10/dist-packages (from requests<3.0,>=2.6.0->prawcore<3,>=2.1->praw) (3.6)\n",
            "Requirement already satisfied: urllib3<3,>=1.21.1 in /usr/local/lib/python3.10/dist-packages (from requests<3.0,>=2.6.0->prawcore<3,>=2.1->praw) (2.0.7)\n",
            "Requirement already satisfied: certifi>=2017.4.17 in /usr/local/lib/python3.10/dist-packages (from requests<3.0,>=2.6.0->prawcore<3,>=2.1->praw) (2024.2.2)\n",
            "Installing collected packages: update-checker, prawcore, praw\n",
            "Successfully installed praw-7.7.1 prawcore-2.4.0 update-checker-0.18.0\n",
            "Requirement already satisfied: praw in /usr/local/lib/python3.10/dist-packages (7.7.1)\n",
            "Requirement already satisfied: prawcore<3,>=2.1 in /usr/local/lib/python3.10/dist-packages (from praw) (2.4.0)\n",
            "Requirement already satisfied: update-checker>=0.18 in /usr/local/lib/python3.10/dist-packages (from praw) (0.18.0)\n",
            "Requirement already satisfied: websocket-client>=0.54.0 in /usr/local/lib/python3.10/dist-packages (from praw) (1.7.0)\n",
            "Requirement already satisfied: requests<3.0,>=2.6.0 in /usr/local/lib/python3.10/dist-packages (from prawcore<3,>=2.1->praw) (2.31.0)\n",
            "Requirement already satisfied: charset-normalizer<4,>=2 in /usr/local/lib/python3.10/dist-packages (from requests<3.0,>=2.6.0->prawcore<3,>=2.1->praw) (3.3.2)\n",
            "Requirement already satisfied: idna<4,>=2.5 in /usr/local/lib/python3.10/dist-packages (from requests<3.0,>=2.6.0->prawcore<3,>=2.1->praw) (3.6)\n",
            "Requirement already satisfied: urllib3<3,>=1.21.1 in /usr/local/lib/python3.10/dist-packages (from requests<3.0,>=2.6.0->prawcore<3,>=2.1->praw) (2.0.7)\n",
            "Requirement already satisfied: certifi>=2017.4.17 in /usr/local/lib/python3.10/dist-packages (from requests<3.0,>=2.6.0->prawcore<3,>=2.1->praw) (2024.2.2)\n"
          ]
        }
      ]
    },
    {
      "cell_type": "code",
      "execution_count": 11,
      "metadata": {
        "colab": {
          "base_uri": "https://localhost:8080/"
        },
        "id": "deYcW4JwBJnm",
        "outputId": "1b0f2581-5d22-4bc2-d6b1-831a8b2126f2"
      },
      "outputs": [
        {
          "output_type": "stream",
          "name": "stdout",
          "text": [
            "Data saved to data/reddit_comments_structured_final.csv\n",
            "17130\n"
          ]
        }
      ],
      "source": [
        "import praw\n",
        "import pandas as pd\n",
        "import os\n",
        "import time\n",
        "\n",
        "# Initialize Reddit instance\n",
        "reddit = praw.Reddit(client_id = \"bBVDteGm6HjBNsTSTG_6bQ\", #peronal use script\n",
        "                    client_secret = \"6KGSNj7r3TkjUCTZTX7nb7xfa5n0hA\", #secret token\n",
        "                    usernme = \"KaushalSen\", #profile username\n",
        "                    password = \"Fall@2023\", #profile password\n",
        "                    user_agent = \"my-user-agent\", #profile agent\n",
        "                    check_for_async=False)\n",
        "\n",
        "# URLs of Reddit posts to scrape\n",
        "reddit_post_urls = [\n",
        "    # Mohammed Imaduddin Ahmed\n",
        "    'https://www.reddit.com/r/sysadmin/comments/199siwz/closet_chatgpt_user_at_work/',\n",
        "    'https://www.reddit.com/r/ChatGPT/comments/133mc2v/what_do_you_all_actually_use_chatgpt_for/',\n",
        "    'https://www.reddit.com/r/Professors/comments/18nmf24/typical_words_utilized_by_chatgpt/',\n",
        "    'https://www.reddit.com/r/shortcuts/comments/135xfp6/i_got_my_chatgpt_shortcut_working_with_an_all/',\n",
        "    'https://www.reddit.com/r/PhD/comments/127f9wv/how_do_you_use_chatgpt_when_writing_your_papers/',\n",
        "    'https://www.reddit.com/r/technology/comments/161tyuj/chatgpt_generates_cancer_treatment_plans_that_are/',\n",
        "    'https://www.reddit.com/r/education/comments/108i81c/should_we_stop_worrying_about_chatgpt_and_use_it/',\n",
        "    # Ratna Srikar Duriseti\n",
        "    'https://www.reddit.com/r/Damnthatsinteresting/comments/10sja83/3d_printer_does_homework_chatgpt_wrote/',\n",
        "    'https://www.reddit.com/r/learnprogramming/comments/16wn6q9/chat_gpt_is_overrated/',\n",
        "    'https://www.reddit.com/r/WGU/comments/157vonk/what_role_does_chatgpt_play_in_your_studying/',\n",
        "    'https://www.reddit.com/r/ChatGPTCoding/comments/1b1eo9c/whats_the_coolest_coding_project_youve_built_with/',\n",
        "    'https://www.reddit.com/r/Teachers/comments/zhkzp5/chatgpt_and_how_it_will_change_education/',\n",
        "    'https://www.reddit.com/r/technology/comments/1113fyh/chatgpt_is_a_plague_upon_education/',\n",
        "    'https://www.reddit.com/r/edtech/comments/1aqmy6k/is_chatgpt_banned_at_work_but_would_actually_be/',\n",
        "    'https://www.reddit.com/r/Futurology/comments/12nx2mq/chatgpt_is_going_to_change_education_not_destroy/',\n",
        "    'https://www.reddit.com/r/ChatGPT/comments/10a11w5/just_heard_a_chatgpt_school_speech/',\n",
        "    'https://www.reddit.com/user/call_of_war_player/comments/16uc8la/what_would_the_world_look_like_without_us/',\n",
        "    # Madhan Dadi\n",
        "    'https://www.reddit.com/r/ChatGPT/comments/11jk3dk/turnitin_will_use_fingerprints_or_make_a_model_on/',\n",
        "    'https://www.reddit.com/r/programming/comments/179upqc/report_chatgpts_impact_on_programming_education/',\n",
        "    'https://www.reddit.com/r/ChatGPT/comments/13tx09i/only_2_of_us_adults_find_chatgpt_extremely_useful/',\n",
        "    'https://www.reddit.com/r/ChatGPT/comments/13thzmm/high_school_english_teacher_looking_for/',\n",
        "    # Sivanarayana Reddy\n",
        "    'https://www.reddit.com/r/ChatGPT/comments/13r3v36/i_run_an_ai_tools_directory_here_are_some_top_ai/',\n",
        "    'https://www.reddit.com/r/ChatGPT/comments/ztrpnc/im_a_teacher_and_i_love_chatgpt/',\n",
        "    'https://www.reddit.com/r/Teachers/comments/130jd7t/why_i_boycotted_chatgpt/',\n",
        "    'https://www.reddit.com/r/ChatGPT/comments/1178ff4/i_think_chatgpt_can_make_the_teaching_profession/',\n",
        "    'https://www.reddit.com/r/UniUK/comments/13as7js/guys_stop_using_chatgpt_to_write_your_essays/',\n",
        "    'https://www.reddit.com/r/ceo/comments/1arem6b/have_you_banned_chatgpt_at_work/',\n",
        "    # Tanvi Kandula\n",
        "    'https://www.reddit.com/r/IAmA/comments/11dg7ds/im_dr_wesley_wildman_a_professor_at_boston/',\n",
        "    'https://www.reddit.com/r/ChatGPT/comments/1681xsu/theres_no_way_for_teachers_to_figure_out_if/',\n",
        "    'https://www.reddit.com/r/Teachers/comments/zh43ju/respectfully_some_teachers_in_the_sub_are/',\n",
        "    'https://www.reddit.com/r/pharmacy/comments/11vwtbp/chatgpt_will_replace_us_thoughts/',\n",
        "    'https://www.reddit.com/r/singularity/comments/13euhi5/the_whole_idea_of_university_education_now_seems/',\n",
        "    'https://www.reddit.com/r/ChatGPT/comments/11lsztp/hi_im_a_school_teacher_and_new_to_chatgpt_any/',\n",
        "    'https://www.reddit.com/r/Genealogy/comments/11sgete/why_you_shouldnt_use_chatgpt_for_genealogical/',\n",
        "    # Sandeep Reddy\n",
        "    'https://www.reddit.com/r/Futurology/comments/10p1lgr/this_shouldnt_be_a_surprise_the_education/',\n",
        "    'https://www.reddit.com/r/ChatGPT/comments/12q2b0e/chatgpt_helped_me_pass_an_exam_with_94_despite/',\n",
        "    'https://www.reddit.com/r/EngineeringStudents/comments/11ujrmh/how_do_you_use_chatgpt_as_an_engineer_student/',\n",
        "    'https://www.reddit.com/r/ChatGPT/comments/12rt45l/im_a_high_school_math_teacher_and_just_showed_all/',\n",
        "    'https://www.reddit.com/r/ChatGPT/comments/11z2som/ive_been_letting_my_high_school_students_use/',\n",
        "    'https://www.reddit.com/r/Python/comments/15fo9wl/i_am_teaching_kids_how_to_code_and_the_kids_are/'\n",
        "]\n",
        "\n",
        "\n",
        "structured_comments = []\n",
        "\n",
        "def process_comment_tree(comment, submission, depth=0, parent_id=None):\n",
        "    \"\"\"\n",
        "    Recursively process a comment and its replies, appending each to the\n",
        "    structured_comments list with depth and parent_id to maintain structure.\n",
        "    \"\"\"\n",
        "    structured_comments.append({\n",
        "        'post_id': submission.id,\n",
        "        'post_title': submission.title,\n",
        "        'post_score': submission.score,\n",
        "        'post_url': submission.url,\n",
        "        'comment_id': comment.id,\n",
        "        'parent_id': parent_id,\n",
        "        'comment_depth': depth,\n",
        "        'comment_body': comment.body,\n",
        "        'comment_likes': comment.score\n",
        "    })\n",
        "    if hasattr(comment, 'replies'):\n",
        "        for reply in comment.replies:\n",
        "            process_comment_tree(reply, submission, depth + 1, comment.id)\n",
        "\n",
        "def extract_data_from_url(url):\n",
        "    submission_id = url.split(\"/\")[6]\n",
        "    submission = reddit.submission(id=submission_id)\n",
        "    submission.comments.replace_more(limit=None)  # limit=None for full depth, might take longer\n",
        "    for top_level_comment in submission.comments:\n",
        "        process_comment_tree(top_level_comment,submission)\n",
        "\n",
        "for url in reddit_post_urls:\n",
        "    extract_data_from_url(url)\n",
        "    time.sleep(5)\n",
        "\n",
        "# Convert the structured comments to a DataFrame\n",
        "df = pd.DataFrame(structured_comments)\n",
        "\n",
        "# Ensure the script's directory has a subdirectory named 'data'\n",
        "os.makedirs('data', exist_ok=True)\n",
        "\n",
        "# Save DataFrame to CSV\n",
        "csv_file_path = os.path.join('data', 'reddit_comments_structured_final_reviews.csv')\n",
        "df.to_csv(csv_file_path, index=False)\n",
        "\n",
        "print(f\"Data saved to {csv_file_path}\")\n",
        "print(len(structured_comments))\n"
      ]
    }
  ]
}